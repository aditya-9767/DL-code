{
 "cells": [
  {
   "cell_type": "code",
   "execution_count": 1,
   "metadata": {
    "id": "GI-O80mz1ZiV"
   },
   "outputs": [],
   "source": [
    "import numpy as np \n",
    "import pandas as pd \n",
    "import matplotlib.pyplot as plt \n",
    "from sklearn.preprocessing import MinMaxScaler\n",
    "from keras.models import Sequential\n",
    "from keras.layers import Dense,LSTM,Dropout"
   ]
  },
  {
   "cell_type": "code",
   "execution_count": 2,
   "metadata": {
    "colab": {
     "base_uri": "https://localhost:8080/",
     "height": 206
    },
    "id": "BzkDYb7F1ZiX",
    "outputId": "89ffe368-980b-4a40-dac3-01fa643764d5"
   },
   "outputs": [
    {
     "data": {
      "text/html": [
       "<div>\n",
       "<style scoped>\n",
       "    .dataframe tbody tr th:only-of-type {\n",
       "        vertical-align: middle;\n",
       "    }\n",
       "\n",
       "    .dataframe tbody tr th {\n",
       "        vertical-align: top;\n",
       "    }\n",
       "\n",
       "    .dataframe thead th {\n",
       "        text-align: right;\n",
       "    }\n",
       "</style>\n",
       "<table border=\"1\" class=\"dataframe\">\n",
       "  <thead>\n",
       "    <tr style=\"text-align: right;\">\n",
       "      <th></th>\n",
       "      <th>Date</th>\n",
       "      <th>Open</th>\n",
       "      <th>High</th>\n",
       "      <th>Low</th>\n",
       "      <th>Close</th>\n",
       "      <th>Volume</th>\n",
       "    </tr>\n",
       "  </thead>\n",
       "  <tbody>\n",
       "    <tr>\n",
       "      <th>0</th>\n",
       "      <td>1/3/2012</td>\n",
       "      <td>325.25</td>\n",
       "      <td>332.83</td>\n",
       "      <td>324.97</td>\n",
       "      <td>663.59</td>\n",
       "      <td>7,380,500</td>\n",
       "    </tr>\n",
       "    <tr>\n",
       "      <th>1</th>\n",
       "      <td>1/4/2012</td>\n",
       "      <td>331.27</td>\n",
       "      <td>333.87</td>\n",
       "      <td>329.08</td>\n",
       "      <td>666.45</td>\n",
       "      <td>5,749,400</td>\n",
       "    </tr>\n",
       "    <tr>\n",
       "      <th>2</th>\n",
       "      <td>1/5/2012</td>\n",
       "      <td>329.83</td>\n",
       "      <td>330.75</td>\n",
       "      <td>326.89</td>\n",
       "      <td>657.21</td>\n",
       "      <td>6,590,300</td>\n",
       "    </tr>\n",
       "    <tr>\n",
       "      <th>3</th>\n",
       "      <td>1/6/2012</td>\n",
       "      <td>328.34</td>\n",
       "      <td>328.77</td>\n",
       "      <td>323.68</td>\n",
       "      <td>648.24</td>\n",
       "      <td>5,405,900</td>\n",
       "    </tr>\n",
       "    <tr>\n",
       "      <th>4</th>\n",
       "      <td>1/9/2012</td>\n",
       "      <td>322.04</td>\n",
       "      <td>322.29</td>\n",
       "      <td>309.46</td>\n",
       "      <td>620.76</td>\n",
       "      <td>11,688,800</td>\n",
       "    </tr>\n",
       "  </tbody>\n",
       "</table>\n",
       "</div>"
      ],
      "text/plain": [
       "       Date    Open    High     Low   Close      Volume\n",
       "0  1/3/2012  325.25  332.83  324.97  663.59   7,380,500\n",
       "1  1/4/2012  331.27  333.87  329.08  666.45   5,749,400\n",
       "2  1/5/2012  329.83  330.75  326.89  657.21   6,590,300\n",
       "3  1/6/2012  328.34  328.77  323.68  648.24   5,405,900\n",
       "4  1/9/2012  322.04  322.29  309.46  620.76  11,688,800"
      ]
     },
     "execution_count": 2,
     "metadata": {},
     "output_type": "execute_result"
    }
   ],
   "source": [
    "data = pd.read_csv('Google_train_data.csv')\n",
    "data.head()"
   ]
  },
  {
   "cell_type": "code",
   "execution_count": 3,
   "metadata": {
    "colab": {
     "base_uri": "https://localhost:8080/"
    },
    "id": "3KiWD9jr1ZiX",
    "outputId": "b8d26d62-53a1-4424-cba8-6e304bfd151c"
   },
   "outputs": [
    {
     "name": "stdout",
     "output_type": "stream",
     "text": [
      "<class 'pandas.core.frame.DataFrame'>\n",
      "RangeIndex: 1258 entries, 0 to 1257\n",
      "Data columns (total 6 columns):\n",
      " #   Column  Non-Null Count  Dtype  \n",
      "---  ------  --------------  -----  \n",
      " 0   Date    1258 non-null   object \n",
      " 1   Open    1258 non-null   float64\n",
      " 2   High    1258 non-null   float64\n",
      " 3   Low     1258 non-null   float64\n",
      " 4   Close   1258 non-null   object \n",
      " 5   Volume  1258 non-null   object \n",
      "dtypes: float64(3), object(3)\n",
      "memory usage: 59.1+ KB\n"
     ]
    }
   ],
   "source": [
    "data.info()"
   ]
  },
  {
   "cell_type": "code",
   "execution_count": 4,
   "metadata": {
    "id": "lhjw3juE1ZiY"
   },
   "outputs": [],
   "source": [
    "data[\"Close\"]=pd.to_numeric(data.Close,errors='coerce')\n",
    "data = data.dropna()\n",
    "trainData = data.iloc[:,4:5].values"
   ]
  },
  {
   "cell_type": "code",
   "execution_count": 5,
   "metadata": {
    "colab": {
     "base_uri": "https://localhost:8080/"
    },
    "id": "GBWXb8Qb1ZiY",
    "outputId": "65ecee7b-f6ea-4655-c23f-88988c59b833"
   },
   "outputs": [
    {
     "name": "stdout",
     "output_type": "stream",
     "text": [
      "<class 'pandas.core.frame.DataFrame'>\n",
      "Int64Index: 1149 entries, 0 to 1257\n",
      "Data columns (total 6 columns):\n",
      " #   Column  Non-Null Count  Dtype  \n",
      "---  ------  --------------  -----  \n",
      " 0   Date    1149 non-null   object \n",
      " 1   Open    1149 non-null   float64\n",
      " 2   High    1149 non-null   float64\n",
      " 3   Low     1149 non-null   float64\n",
      " 4   Close   1149 non-null   float64\n",
      " 5   Volume  1149 non-null   object \n",
      "dtypes: float64(4), object(2)\n",
      "memory usage: 62.8+ KB\n"
     ]
    }
   ],
   "source": [
    "data.info()"
   ]
  },
  {
   "cell_type": "code",
   "execution_count": 6,
   "metadata": {
    "colab": {
     "base_uri": "https://localhost:8080/"
    },
    "id": "8NsdLhlD1ZiY",
    "outputId": "42bd361d-89b2-4a1f-ae8f-448172d9b060"
   },
   "outputs": [
    {
     "data": {
      "text/plain": [
       "(1149, 1)"
      ]
     },
     "execution_count": 6,
     "metadata": {},
     "output_type": "execute_result"
    }
   ],
   "source": [
    "sc = MinMaxScaler(feature_range=(0,1))\n",
    "trainData = sc.fit_transform(trainData)\n",
    "trainData.shape"
   ]
  },
  {
   "cell_type": "code",
   "execution_count": 7,
   "metadata": {
    "id": "x_wIYl681ZiZ"
   },
   "outputs": [],
   "source": [
    "X_train = []\n",
    "y_train = []\n",
    "\n",
    "for i in range (60,1149): #60 : timestep // 1149 : length of the data\n",
    "    X_train.append(trainData[i-60:i,0]) \n",
    "    y_train.append(trainData[i,0])\n",
    "\n",
    "X_train,y_train = np.array(X_train),np.array(y_train)"
   ]
  },
  {
   "cell_type": "code",
   "execution_count": 8,
   "metadata": {
    "colab": {
     "base_uri": "https://localhost:8080/"
    },
    "id": "tFkfYIiK1ZiZ",
    "outputId": "6f21d2ba-fbfe-45df-9867-001cd2ebbdcb"
   },
   "outputs": [
    {
     "data": {
      "text/plain": [
       "(1089, 60, 1)"
      ]
     },
     "execution_count": 8,
     "metadata": {},
     "output_type": "execute_result"
    }
   ],
   "source": [
    "X_train = np.reshape(X_train,(X_train.shape[0],X_train.shape[1],1)) #adding the batch_size axis\n",
    "X_train.shape"
   ]
  },
  {
   "cell_type": "code",
   "execution_count": 9,
   "metadata": {
    "id": "t1YT3DqW1Zia"
   },
   "outputs": [],
   "source": [
    "model = Sequential()\n",
    "\n",
    "model.add(LSTM(units=100, return_sequences = True, input_shape =(X_train.shape[1],1)))\n",
    "model.add(Dropout(0.2))\n",
    "\n",
    "model.add(LSTM(units=100, return_sequences = True))\n",
    "model.add(Dropout(0.2))\n",
    "\n",
    "model.add(LSTM(units=100, return_sequences = True))\n",
    "model.add(Dropout(0.2))\n",
    "\n",
    "model.add(LSTM(units=100, return_sequences = False))\n",
    "model.add(Dropout(0.2))\n",
    "\n",
    "model.add(Dense(units =1))\n",
    "model.compile(optimizer='adam',loss=\"mean_squared_error\")"
   ]
  },
  {
   "cell_type": "code",
   "execution_count": 10,
   "metadata": {
    "colab": {
     "base_uri": "https://localhost:8080/"
    },
    "id": "oSyNuO0s1Zia",
    "outputId": "9aa87d25-17e8-440f-f2e6-a957a87bb4e1"
   },
   "outputs": [
    {
     "name": "stdout",
     "output_type": "stream",
     "text": [
      "Epoch 1/20\n",
      "35/35 - 8s - loss: 0.0344 - 8s/epoch - 228ms/step\n",
      "Epoch 2/20\n",
      "35/35 - 15s - loss: 0.0153 - 15s/epoch - 433ms/step\n",
      "Epoch 3/20\n",
      "35/35 - 19s - loss: 0.0103 - 19s/epoch - 540ms/step\n",
      "Epoch 4/20\n",
      "35/35 - 20s - loss: 0.0075 - 20s/epoch - 571ms/step\n",
      "Epoch 5/20\n",
      "35/35 - 21s - loss: 0.0088 - 21s/epoch - 591ms/step\n",
      "Epoch 6/20\n",
      "35/35 - 21s - loss: 0.0077 - 21s/epoch - 592ms/step\n",
      "Epoch 7/20\n",
      "35/35 - 22s - loss: 0.0067 - 22s/epoch - 629ms/step\n",
      "Epoch 8/20\n",
      "35/35 - 21s - loss: 0.0073 - 21s/epoch - 611ms/step\n",
      "Epoch 9/20\n",
      "35/35 - 21s - loss: 0.0065 - 21s/epoch - 597ms/step\n",
      "Epoch 10/20\n",
      "35/35 - 18s - loss: 0.0059 - 18s/epoch - 510ms/step\n",
      "Epoch 11/20\n",
      "35/35 - 23s - loss: 0.0060 - 23s/epoch - 646ms/step\n",
      "Epoch 12/20\n",
      "35/35 - 18s - loss: 0.0059 - 18s/epoch - 520ms/step\n",
      "Epoch 13/20\n",
      "35/35 - 22s - loss: 0.0059 - 22s/epoch - 618ms/step\n",
      "Epoch 14/20\n",
      "35/35 - 21s - loss: 0.0059 - 21s/epoch - 592ms/step\n",
      "Epoch 15/20\n",
      "35/35 - 22s - loss: 0.0057 - 22s/epoch - 616ms/step\n",
      "Epoch 16/20\n",
      "35/35 - 22s - loss: 0.0052 - 22s/epoch - 619ms/step\n",
      "Epoch 17/20\n",
      "35/35 - 21s - loss: 0.0049 - 21s/epoch - 598ms/step\n",
      "Epoch 18/20\n",
      "35/35 - 21s - loss: 0.0052 - 21s/epoch - 601ms/step\n",
      "Epoch 19/20\n",
      "35/35 - 20s - loss: 0.0050 - 20s/epoch - 580ms/step\n",
      "Epoch 20/20\n",
      "35/35 - 15s - loss: 0.0048 - 15s/epoch - 423ms/step\n"
     ]
    }
   ],
   "source": [
    "hist = model.fit(X_train, y_train, epochs = 20, batch_size = 32, verbose=2)"
   ]
  },
  {
   "cell_type": "code",
   "execution_count": 11,
   "metadata": {
    "colab": {
     "base_uri": "https://localhost:8080/",
     "height": 472
    },
    "id": "JczBU-oo1Zia",
    "outputId": "eda8f6b0-3c9b-4073-ebab-a80e34a911c9"
   },
   "outputs": [
    {
     "data": {
      "image/png": "[encoded data removed]",
      "text/plain": [
       "<Figure size 640x480 with 1 Axes>"
      ]
     },
     "metadata": {},
     "output_type": "display_data"
    }
   ],
   "source": [
    "plt.plot(hist.history['loss'])\n",
    "plt.title('Training model loss')\n",
    "plt.ylabel('loss')\n",
    "plt.xlabel('epoch')\n",
    "plt.legend(['train'], loc='upper left')\n",
    "plt.show()"
   ]
  },
  {
   "cell_type": "code",
   "execution_count": 12,
   "metadata": {
    "colab": {
     "base_uri": "https://localhost:8080/"
    },
    "id": "ttFzVXFn1Zib",
    "outputId": "d53dfc69-29bf-423e-ab1b-87e5fa26660c"
   },
   "outputs": [
    {
     "data": {
      "text/plain": [
       "(192, 60, 1)"
      ]
     },
     "execution_count": 12,
     "metadata": {},
     "output_type": "execute_result"
    }
   ],
   "source": [
    "testData = pd.read_csv('Google_test_data.csv')\n",
    "testData[\"Close\"]=pd.to_numeric(testData.Close,errors='coerce')\n",
    "testData = testData.dropna()\n",
    "testData = testData.iloc[:,4:5]\n",
    "y_test = testData.iloc[60:,0:].values \n",
    "#input array for the model\n",
    "inputClosing = testData.iloc[:,0:].values \n",
    "inputClosing_scaled = sc.transform(inputClosing)\n",
    "inputClosing_scaled.shape\n",
    "X_test = []\n",
    "length = len(testData)\n",
    "timestep = 60\n",
    "for i in range(timestep,length):  \n",
    "    X_test.append(inputClosing_scaled[i-timestep:i,0])\n",
    "X_test = np.array(X_test)\n",
    "X_test = np.reshape(X_test,(X_test.shape[0],X_test.shape[1],1))\n",
    "X_test.shape"
   ]
  },
  {
   "cell_type": "code",
   "execution_count": 13,
   "metadata": {
    "colab": {
     "base_uri": "https://localhost:8080/"
    },
    "id": "oQ6dEDMo1Zic",
    "outputId": "21e1da12-65d5-47a5-9dc4-d31d1c8cb0a9"
   },
   "outputs": [
    {
     "name": "stdout",
     "output_type": "stream",
     "text": [
      "6/6 [==============================] - 3s 173ms/step\n"
     ]
    },
    {
     "data": {
      "text/plain": [
       "array([[1.2606875],\n",
       "       [1.2631255],\n",
       "       [1.2733852],\n",
       "       [1.2894411],\n",
       "       [1.3038958],\n",
       "       [1.3073348],\n",
       "       [1.2986649],\n",
       "       [1.2836213],\n",
       "       [1.2719059],\n",
       "       [1.2666556],\n",
       "       [1.2591851],\n",
       "       [1.2482594],\n",
       "       [1.2379147],\n",
       "       [1.2280564],\n",
       "       [1.2241601],\n",
       "       [1.22638  ],\n",
       "       [1.2409629],\n",
       "       [1.2662102],\n",
       "       [1.2971743],\n",
       "       [1.3297341],\n",
       "       [1.34739  ],\n",
       "       [1.3501426],\n",
       "       [1.3359394],\n",
       "       [1.310932 ],\n",
       "       [1.2852246],\n",
       "       [1.2673398],\n",
       "       [1.259291 ],\n",
       "       [1.2555517],\n",
       "       [1.2478522],\n",
       "       [1.2373357],\n",
       "       [1.225532 ],\n",
       "       [1.2120355],\n",
       "       [1.1927091],\n",
       "       [1.1686919],\n",
       "       [1.1558654],\n",
       "       [1.1600052],\n",
       "       [1.1770014],\n",
       "       [1.1995571],\n",
       "       [1.223216 ],\n",
       "       [1.2383223],\n",
       "       [1.2529085],\n",
       "       [1.2690746],\n",
       "       [1.2871085],\n",
       "       [1.3043323],\n",
       "       [1.3172103],\n",
       "       [1.3216201],\n",
       "       [1.3154136],\n",
       "       [1.3079094],\n",
       "       [1.3045107],\n",
       "       [1.3079101],\n",
       "       [1.3182324],\n",
       "       [1.3266484],\n",
       "       [1.3303598],\n",
       "       [1.3291446],\n",
       "       [1.328072 ],\n",
       "       [1.3248821],\n",
       "       [1.3174978],\n",
       "       [1.3127588],\n",
       "       [1.3186208],\n",
       "       [1.3333133],\n",
       "       [1.3564355],\n",
       "       [1.385821 ],\n",
       "       [1.4093271],\n",
       "       [1.4181947],\n",
       "       [1.412135 ],\n",
       "       [1.3963063],\n",
       "       [1.3825294],\n",
       "       [1.3754054],\n",
       "       [1.3752798],\n",
       "       [1.3782316],\n",
       "       [1.3825123],\n",
       "       [1.3857353],\n",
       "       [1.383554 ],\n",
       "       [1.3790914],\n",
       "       [1.3745689],\n",
       "       [1.3724668],\n",
       "       [1.3733354],\n",
       "       [1.3771623],\n",
       "       [1.3871157],\n",
       "       [1.4030577],\n",
       "       [1.4245218],\n",
       "       [1.4465324],\n",
       "       [1.4615744],\n",
       "       [1.46726  ],\n",
       "       [1.4723506],\n",
       "       [1.4834065],\n",
       "       [1.4994797],\n",
       "       [1.5147985],\n",
       "       [1.525359 ],\n",
       "       [1.5299354],\n",
       "       [1.5326475],\n",
       "       [1.5406858],\n",
       "       [1.5554199],\n",
       "       [1.5672718],\n",
       "       [1.5693799],\n",
       "       [1.5603107],\n",
       "       [1.5415105],\n",
       "       [1.51751  ],\n",
       "       [1.4950279],\n",
       "       [1.4828881],\n",
       "       [1.483532 ],\n",
       "       [1.4949374],\n",
       "       [1.513878 ],\n",
       "       [1.5331705],\n",
       "       [1.5475047],\n",
       "       [1.5537506],\n",
       "       [1.553981 ],\n",
       "       [1.5513724],\n",
       "       [1.5510918],\n",
       "       [1.5547479],\n",
       "       [1.5623971],\n",
       "       [1.573877 ],\n",
       "       [1.5865151],\n",
       "       [1.600386 ],\n",
       "       [1.617096 ],\n",
       "       [1.6322076],\n",
       "       [1.644549 ],\n",
       "       [1.6550603],\n",
       "       [1.6668252],\n",
       "       [1.6552917],\n",
       "       [1.6166717],\n",
       "       [1.5618662],\n",
       "       [1.5109061],\n",
       "       [1.4754978],\n",
       "       [1.455077 ],\n",
       "       [1.4452757],\n",
       "       [1.441794 ],\n",
       "       [1.4425257],\n",
       "       [1.4388782],\n",
       "       [1.4275295],\n",
       "       [1.420923 ],\n",
       "       [1.4264973],\n",
       "       [1.4391834],\n",
       "       [1.4484525],\n",
       "       [1.4531066],\n",
       "       [1.4544379],\n",
       "       [1.4516908],\n",
       "       [1.4445783],\n",
       "       [1.4352266],\n",
       "       [1.4222395],\n",
       "       [1.407843 ],\n",
       "       [1.3917218],\n",
       "       [1.3617297],\n",
       "       [1.3241898],\n",
       "       [1.285459 ],\n",
       "       [1.2524946],\n",
       "       [1.233702 ],\n",
       "       [1.2330619],\n",
       "       [1.2469019],\n",
       "       [1.2681482],\n",
       "       [1.2925733],\n",
       "       [1.3150934],\n",
       "       [1.3339444],\n",
       "       [1.3502597],\n",
       "       [1.3634737],\n",
       "       [1.3747704],\n",
       "       [1.386093 ],\n",
       "       [1.3955078],\n",
       "       [1.3955045],\n",
       "       [1.3845383],\n",
       "       [1.3656021],\n",
       "       [1.3449694],\n",
       "       [1.3308059],\n",
       "       [1.3282019],\n",
       "       [1.3379115],\n",
       "       [1.3576231],\n",
       "       [1.3783467],\n",
       "       [1.3961368],\n",
       "       [1.4121844],\n",
       "       [1.4267951],\n",
       "       [1.4390935],\n",
       "       [1.4491884],\n",
       "       [1.4572674],\n",
       "       [1.461398 ],\n",
       "       [1.4614319],\n",
       "       [1.4548641],\n",
       "       [1.4450587],\n",
       "       [1.4368721],\n",
       "       [1.4304398],\n",
       "       [1.4245173],\n",
       "       [1.444597 ],\n",
       "       [1.4879693],\n",
       "       [1.5380992],\n",
       "       [1.5790849],\n",
       "       [1.6021038],\n",
       "       [1.6041273],\n",
       "       [1.5811219],\n",
       "       [1.5460953],\n",
       "       [1.5115238],\n",
       "       [1.4916203],\n",
       "       [1.4847447],\n",
       "       [1.4837302]], dtype=float32)"
      ]
     },
     "execution_count": 13,
     "metadata": {},
     "output_type": "execute_result"
    }
   ],
   "source": [
    "y_pred = model.predict(X_test)\n",
    "y_pred"
   ]
  },
  {
   "cell_type": "code",
   "execution_count": 14,
   "metadata": {
    "id": "IU8hN2uf1Zic"
   },
   "outputs": [],
   "source": [
    "predicted_price = sc.inverse_transform(y_pred)"
   ]
  },
  {
   "cell_type": "code",
   "execution_count": 15,
   "metadata": {
    "colab": {
     "base_uri": "https://localhost:8080/",
     "height": 472
    },
    "id": "EfH23mJ71Zic",
    "outputId": "501d598b-f399-4093-b9df-b4cd2dd278d5"
   },
   "outputs": [
    {
     "data": {
      "image/png": "[encoded data removed]",
      "text/plain": [
       "<Figure size 640x480 with 1 Axes>"
      ]
     },
     "metadata": {},
     "output_type": "display_data"
    }
   ],
   "source": [
    "plt.plot(y_test, color = 'red', label = 'Actual Stock Price')\n",
    "plt.plot(predicted_price, color = 'green', label = 'Predicted Stock Price')\n",
    "plt.title('Google stock price prediction')\n",
    "plt.xlabel('Time')\n",
    "plt.ylabel('Stock Price')\n",
    "plt.legend()\n",
    "plt.show()"
   ]
  },
  {
   "cell_type": "code",
   "execution_count": null,
   "metadata": {},
   "outputs": [],
   "source": []
  },
  {
   "cell_type": "code",
   "execution_count": null,
   "metadata": {},
   "outputs": [],
   "source": []
  }
 ],
 "metadata": {
  "colab": {
   "provenance": []
  },
  "kernelspec": {
   "display_name": "Python 3 (ipykernel)",
   "language": "python",
   "name": "python3"
  },
  "language_info": {
   "codemirror_mode": {
    "name": "ipython",
    "version": 3
   },
   "file_extension": ".py",
   "mimetype": "text/x-python",
   "name": "python",
   "nbconvert_exporter": "python",
   "pygments_lexer": "ipython3",
   "version": "3.10.6"
  }
 },
 "nbformat": 4,
 "nbformat_minor": 1
}
